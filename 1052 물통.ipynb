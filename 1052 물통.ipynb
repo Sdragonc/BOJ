{
 "cells": [
  {
   "cell_type": "code",
   "execution_count": 9,
   "id": "00e4671d",
   "metadata": {},
   "outputs": [
    {
     "name": "stdout",
     "output_type": "stream",
     "text": [
      "1000000 5\n",
      "15808\n"
     ]
    }
   ],
   "source": [
    "n, k = map(int, input().split())\n",
    "buy = 0\n",
    "if n == 0:\n",
    "    print(0)\n",
    "else:\n",
    "    while True:\n",
    "        bottle = n + buy\n",
    "        count = 0\n",
    "        while bottle > 0:\n",
    "            if bottle % 2 != 0:\n",
    "                count += 1\n",
    "            bottle //= 2\n",
    "        if count <= k:\n",
    "            break\n",
    "        buy += 1\n",
    "    print(buy)"
   ]
  }
 ],
 "metadata": {
  "kernelspec": {
   "display_name": "Python 3 (ipykernel)",
   "language": "python",
   "name": "python3"
  },
  "language_info": {
   "codemirror_mode": {
    "name": "ipython",
    "version": 3
   },
   "file_extension": ".py",
   "mimetype": "text/x-python",
   "name": "python",
   "nbconvert_exporter": "python",
   "pygments_lexer": "ipython3",
   "version": "3.9.7"
  }
 },
 "nbformat": 4,
 "nbformat_minor": 5
}
