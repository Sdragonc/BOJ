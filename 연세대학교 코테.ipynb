{
 "cells": [
  {
   "cell_type": "markdown",
   "id": "7814d957",
   "metadata": {},
   "source": [
    "# A 영수증"
   ]
  },
  {
   "cell_type": "code",
   "execution_count": 2,
   "id": "30049304",
   "metadata": {},
   "outputs": [
    {
     "name": "stdout",
     "output_type": "stream",
     "text": [
      "250000\n",
      "4\n",
      "20000 5\n",
      "30000 2\n",
      "10000 6\n",
      "5000 8\n",
      "No\n"
     ]
    }
   ],
   "source": [
    "x = int(input())\n",
    "n = int(input())\n",
    "product = []\n",
    "for _ in range(n):\n",
    "    product.append(list(map(int,input().split())))\n",
    "price = 0\n",
    "for p in product:\n",
    "    price += p[0] * p[1]\n",
    "if price == x:\n",
    "    print(\"Yes\")\n",
    "else:\n",
    "    print(\"No\")"
   ]
  },
  {
   "cell_type": "markdown",
   "id": "fd7eabc3",
   "metadata": {},
   "source": [
    "# B 커트라인"
   ]
  },
  {
   "cell_type": "code",
   "execution_count": 4,
   "id": "ec8344ad",
   "metadata": {},
   "outputs": [
    {
     "name": "stdout",
     "output_type": "stream",
     "text": [
      "5 2\n",
      "100 76 85 93 98\n",
      "98\n"
     ]
    }
   ],
   "source": [
    "n, k = map(int, input().split())\n",
    "score = list(map(int, input().split()))\n",
    "score.sort()\n",
    "print(score[n-k])"
   ]
  },
  {
   "cell_type": "markdown",
   "id": "32998158",
   "metadata": {},
   "source": [
    "# 연속 XOR"
   ]
  },
  {
   "cell_type": "code",
   "execution_count": 49,
   "id": "d95bf64d",
   "metadata": {},
   "outputs": [
    {
     "name": "stdout",
     "output_type": "stream",
     "text": [
      "3 5\n",
      "2\n"
     ]
    }
   ],
   "source": [
    "def find_XOR(a):\n",
    "    if a % 4 == 0:\n",
    "        return a\n",
    "    elif a % 4 == 1:\n",
    "        return 1\n",
    "    elif a % 4== 2:\n",
    "        return a+1\n",
    "    else:\n",
    "        return 0\n",
    "a, b = map(int ,input().split())\n",
    "print(find_XOR(a-1)^find_XOR(b))"
   ]
  },
  {
   "cell_type": "code",
   "execution_count": 21,
   "id": "4db3ce56",
   "metadata": {},
   "outputs": [
    {
     "name": "stdout",
     "output_type": "stream",
     "text": [
      "3 4\n",
      "7\n"
     ]
    }
   ],
   "source": [
    "a, b = map(int, input().split())\n"
   ]
  },
  {
   "cell_type": "markdown",
   "id": "c6e4d668",
   "metadata": {},
   "source": [
    "# D 시루의 백화점 구경"
   ]
  },
  {
   "cell_type": "code",
   "execution_count": 51,
   "id": "30eca43c",
   "metadata": {},
   "outputs": [
    {
     "name": "stdout",
     "output_type": "stream",
     "text": [
      "5 5 1\n",
      "0 0 0 0 4\n",
      "0 0 0 1 0\n",
      "0 0 0 0 3\n",
      "0 0 0 1 0\n",
      "0 0 0 0 2\n"
     ]
    },
    {
     "ename": "NameError",
     "evalue": "name 'ns' is not defined",
     "output_type": "error",
     "traceback": [
      "\u001b[1;31m---------------------------------------------------------------------------\u001b[0m",
      "\u001b[1;31mNameError\u001b[0m                                 Traceback (most recent call last)",
      "Input \u001b[1;32mIn [51]\u001b[0m, in \u001b[0;36m<cell line: 19>\u001b[1;34m()\u001b[0m\n\u001b[0;32m     32\u001b[0m blocked \u001b[38;5;241m=\u001b[39m \u001b[38;5;28;01mFalse\u001b[39;00m\n\u001b[0;32m     33\u001b[0m \u001b[38;5;28;01mfor\u001b[39;00m mk \u001b[38;5;129;01min\u001b[39;00m maneking:\n\u001b[1;32m---> 34\u001b[0m     \u001b[38;5;28;01mif\u001b[39;00m \u001b[38;5;28mabs\u001b[39m(nx\u001b[38;5;241m-\u001b[39mmk[\u001b[38;5;241m0\u001b[39m]) \u001b[38;5;241m+\u001b[39m \u001b[38;5;28mabs\u001b[39m(\u001b[43mns\u001b[49m\u001b[38;5;241m-\u001b[39mmk[\u001b[38;5;241m1\u001b[39m]) \u001b[38;5;241m<\u001b[39m\u001b[38;5;241m=\u001b[39m k:\n\u001b[0;32m     35\u001b[0m         blocked \u001b[38;5;241m=\u001b[39m \u001b[38;5;28;01mTrue\u001b[39;00m\n\u001b[0;32m     36\u001b[0m         \u001b[38;5;28;01mbreak\u001b[39;00m\n",
      "\u001b[1;31mNameError\u001b[0m: name 'ns' is not defined"
     ]
    }
   ],
   "source": [
    "del input\n",
    "from collections import deque\n",
    "n, m, k = map(int, input().split())\n",
    "depart = []\n",
    "for _ in range(n):\n",
    "    depart.append(list(map(int, input().split())))\n",
    "dx = [1, 0, -1, 0]\n",
    "dy = [0, 1, 0, -1]\n",
    "q = deque()\n",
    "visited = [[False for _ in range(m)]for _ in range(n)]\n",
    "maneking = []\n",
    "for i in range(n):\n",
    "    for j in range(m):\n",
    "        if depart[i][j] == 4:\n",
    "            q.append([i, j, 0])\n",
    "        elif depart[i][j] == 3:\n",
    "            maneking.append([i, j])\n",
    "flag = False\n",
    "if n == 1 and m == 1:\n",
    "    print(-1)\n",
    "else:\n",
    "    while q:\n",
    "        x, y, cnt = q.popleft()\n",
    "        visited[x][y] = True\n",
    "        for i in range(4):\n",
    "            nx = x + dx[i]\n",
    "            ny = y + dy[i]\n",
    "            if nx < 0 or nx >= n or ny <0 or ny >= m:\n",
    "                  continue\n",
    "            if visited[nx][ny] or depart[nx][ny] == 1:\n",
    "                continue\n",
    "            blocked = False\n",
    "            for mk in maneking:\n",
    "                if abs(nx-mk[0]) + abs(ny-mk[1]) <= k:\n",
    "                    blocked = True\n",
    "                    break\n",
    "            if not blocked:\n",
    "                if depart[nx][ny] == 2:\n",
    "                    flag = True\n",
    "                    print(cnt+1)\n",
    "                    break\n",
    "                    q.append([nx, ny, cnt+1])\n",
    "            if flag:\n",
    "                break\n",
    "    if not flag:\n",
    "        print(-1)"
   ]
  },
  {
   "cell_type": "code",
   "execution_count": 44,
   "id": "c6dd103e",
   "metadata": {},
   "outputs": [
    {
     "name": "stdout",
     "output_type": "stream",
     "text": [
      "0 -3\n",
      "0 3\n",
      "0 3\n",
      "0 -3\n",
      "1 -2\n",
      "1 2\n",
      "-1 2\n",
      "-1 -2\n",
      "2 -1\n",
      "2 1\n",
      "-2 1\n",
      "-2 -1\n",
      "3 0\n",
      "3 0\n",
      "-3 0\n",
      "-3 0\n"
     ]
    }
   ],
   "source": [
    "multiply_x = [1, 1, -1, -1]\n",
    "multiply_y = [-1, 1, 1, -1]\n",
    "for j in range(4):\n",
    "        for h in range(4):\n",
    "            print(j*multiply_x[h], (3-j)*multiply_y[h])"
   ]
  },
  {
   "cell_type": "markdown",
   "id": "38f1db29",
   "metadata": {},
   "source": [
    "2 2 2\n",
    "0 4\n",
    "2 3\n",
    "2"
   ]
  },
  {
   "cell_type": "code",
   "execution_count": 45,
   "id": "34344b93",
   "metadata": {},
   "outputs": [
    {
     "name": "stdout",
     "output_type": "stream",
     "text": [
      "6\n"
     ]
    }
   ],
   "source": [
    "print(2^4)"
   ]
  }
 ],
 "metadata": {
  "kernelspec": {
   "display_name": "Python 3 (ipykernel)",
   "language": "python",
   "name": "python3"
  },
  "language_info": {
   "codemirror_mode": {
    "name": "ipython",
    "version": 3
   },
   "file_extension": ".py",
   "mimetype": "text/x-python",
   "name": "python",
   "nbconvert_exporter": "python",
   "pygments_lexer": "ipython3",
   "version": "3.10.4"
  }
 },
 "nbformat": 4,
 "nbformat_minor": 5
}
